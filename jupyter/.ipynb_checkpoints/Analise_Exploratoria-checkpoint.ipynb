{
 "cells": [
  {
   "cell_type": "markdown",
   "id": "c091292e",
   "metadata": {},
   "source": [
    "# Import Bibliotecas e setup"
   ]
  },
  {
   "cell_type": "code",
   "execution_count": 1,
   "id": "c69c7b73",
   "metadata": {},
   "outputs": [],
   "source": [
    "import os\n",
    "import sys\n",
    "module_path = os.path.abspath(os.path.join('..'))\n",
    "if module_path not in sys.path:\n",
    "    sys.path.append(module_path)\n",
    "    \n",
    "    \n",
    "from pathlib import Path\n",
    "import json\n",
    "import pandas as pd \n",
    "import numpy as np\n",
    "from scipy import stats\n",
    "\n",
    "from script.performance_tracker import PerformanceTracker"
   ]
  },
  {
   "cell_type": "markdown",
   "id": "38da777f",
   "metadata": {},
   "source": [
    "# Get data"
   ]
  },
  {
   "cell_type": "code",
   "execution_count": 2,
   "id": "c979bbe4",
   "metadata": {},
   "outputs": [],
   "source": [
    "returns_path = Path('.').resolve().parent.joinpath(\"data\", \"portfolio_returns.json\")\n",
    "with open(returns_path, 'r') as file:\n",
    "    data = json.load(file)\n",
    "    \n",
    "    \n",
    "# transformando dados em Series e dataframes\n",
    "for key in data.keys():\n",
    "    returns_df = pd.Series(json.loads(data[key][\"portfolio_returns\"]))\n",
    "    data[key][\"portfolio_returns\"] = pd.Series(json.loads(data[key][\"portfolio_returns\"]))\n",
    "    data[key][\"portfolio_returns\"].index = pd.to_datetime(data[key][\"portfolio_returns\"].index)\n",
    "    \n",
    "    weights_df = pd.DataFrame(json.loads(data[key][\"weights_df\"]))\n",
    "    weights_df.index = pd.to_datetime(weights_df.index, unit='ms')\n",
    "    data[key][\"weights_df\"] = weights_df"
   ]
  },
  {
   "cell_type": "markdown",
   "id": "67d4907a",
   "metadata": {},
   "source": [
    "# Variáveis de entrada"
   ]
  },
  {
   "cell_type": "code",
   "execution_count": 3,
   "id": "a327cdc3",
   "metadata": {},
   "outputs": [],
   "source": [
    "data_inicio_treino = \"2019-05-05\"\n",
    "data_fim_treino = \"2021-04-25\"\n",
    "data_fim_teste = \"2023-04-09\"\n",
    "risk_free = 6"
   ]
  },
  {
   "cell_type": "markdown",
   "id": "1065d255",
   "metadata": {},
   "source": [
    "# Naive Portfólio"
   ]
  },
  {
   "cell_type": "code",
   "execution_count": 4,
   "id": "58552860",
   "metadata": {},
   "outputs": [],
   "source": [
    "# Naive\n",
    "naive_returns_path = Path('.').resolve().parent.joinpath(\"data\", \"base_dados.xlsx\")\n",
    "naive_returns = pd.read_excel(naive_returns_path)\n",
    "naive_returns = naive_returns.set_index(\"Date\").pct_change().dropna().mean(axis=1)\n",
    "naive_returns.index = pd.to_datetime(naive_returns.index)\n",
    "naive_returns.name = \"Naive\""
   ]
  },
  {
   "cell_type": "code",
   "execution_count": 5,
   "id": "6d55c3a5",
   "metadata": {},
   "outputs": [],
   "source": [
    "# # BOVA11\n",
    "# naive_returns_path = Path('.').resolve().parent.joinpath(\"data\", \"base_dados_all.xlsx\")\n",
    "# naive_returns = pd.read_excel(naive_returns_path)\n",
    "# naive_returns = naive_returns.rename(columns={\"Data\":\"Date\"}).set_index(\"Date\")[\"BOVA11\"].pct_change().dropna()\n",
    "# naive_returns.index = pd.to_datetime(naive_returns.index)\n",
    "# naive_returns.name = \"BOVA11\""
   ]
  },
  {
   "cell_type": "markdown",
   "id": "f85ad65c",
   "metadata": {},
   "source": [
    "# Treino dos dados e resultado de teste"
   ]
  },
  {
   "cell_type": "code",
   "execution_count": 6,
   "id": "82d34d91",
   "metadata": {},
   "outputs": [],
   "source": [
    "def rename_keys(string, dic):\n",
    "    new_dict = {}\n",
    "    for key in dic.keys():\n",
    "        new_key = key + string\n",
    "        new_dict[new_key] = dic[key]\n",
    "    return new_dict"
   ]
  },
  {
   "cell_type": "code",
   "execution_count": 7,
   "id": "b15c3dee",
   "metadata": {},
   "outputs": [],
   "source": [
    "for key in data.keys():\n",
    "    # Treino\n",
    "    market_data = naive_returns[(naive_returns.index >= data_inicio_treino)&(naive_returns.index <= data_fim_treino)]\n",
    "    data_returns = data[key][\"portfolio_returns\"]\n",
    "    data_returns = data_returns[(data_returns.index >= data_inicio_treino)&(data_returns.index <= data_fim_treino)]\n",
    "    result = PerformanceTracker(data_returns, market_data, annual_risk_free=risk_free, alpha_var=0.05, period=\"weekly\")()\n",
    "    result = rename_keys(\"_treino\", result)\n",
    "    data[key].update(result)\n",
    "    result = PerformanceTracker(market_data, market_data, annual_risk_free=risk_free, alpha_var=0.05, period=\"weekly\")()\n",
    "    result = rename_keys(\"_treino_mercado\", result)\n",
    "    data[key].update(result)\n",
    "    \n",
    "    # Teste\n",
    "    market_data = naive_returns[(naive_returns.index >= data_fim_treino)&(naive_returns.index <= data_fim_teste)]\n",
    "    data_returns = data[key][\"portfolio_returns\"]\n",
    "    data_returns = data_returns[(data_returns.index >= data_fim_treino)&(data_returns.index <= data_fim_teste)]\n",
    "    result = PerformanceTracker(data_returns, market_data, annual_risk_free=risk_free, alpha_var=0.05, period=\"weekly\")()\n",
    "    result = rename_keys(\"_teste\", result)\n",
    "    data[key].update(result)\n",
    "    result = PerformanceTracker(market_data, market_data, annual_risk_free=risk_free, alpha_var=0.05, period=\"weekly\")()\n",
    "    result = rename_keys(\"_teste_mercado\", result)\n",
    "    data[key].update(result)\n",
    "    \n",
    "df = pd.DataFrame([data[key] for key in data.keys()])"
   ]
  },
  {
   "cell_type": "markdown",
   "id": "7f9029a4",
   "metadata": {},
   "source": [
    "# Interpretação dos parametros\n",
    "* window_size 0\n",
    "* step_size 1\n",
    "* risk_aversion 2\n",
    "* returns_percentile 3\n",
    "* volatility_tolerance 4"
   ]
  },
  {
   "cell_type": "markdown",
   "id": "64474751",
   "metadata": {},
   "source": [
    "# Ranquemaneto dos melhores indices de performance"
   ]
  },
  {
   "cell_type": "code",
   "execution_count": 8,
   "id": "e2adf434",
   "metadata": {},
   "outputs": [],
   "source": [
    "def generate_rankings(df, nm_rank):\n",
    "    # sharpe\n",
    "    df = df.sort_values(by=f\"sharpe_{nm_rank}\", ascending=False).reset_index(drop=True)\n",
    "    df[f\"sharpe_{nm_rank}_rank\"] = (df.index + 1)/df.shape[0]\n",
    "    # max drawdown\n",
    "    df = df.sort_values(by=f\"max_drawdown_{nm_rank}\", ascending=False).reset_index(drop=True)\n",
    "    df[f\"max_drawdown_{nm_rank}_rank\"] = (df.index + 1)/df.shape[0]\n",
    "    # alpha\n",
    "    df = df.sort_values(by=f\"alpha_{nm_rank}\", ascending=False).reset_index(drop=True)\n",
    "    df[f\"alpha_{nm_rank}_rank\"] = (df.index + 1)/df.shape[0]\n",
    "    # value at risk\n",
    "    df = df.sort_values(by=f\"value_at_risk_weekly_95_{nm_rank}\", ascending=False).reset_index(drop=True)\n",
    "    df[f\"value_at_risk_weekly_95_{nm_rank}_rank\"] = (df.index + 1)/df.shape[0]\n",
    "    # generating rank\n",
    "    df[f\"ranking_{nm_rank}\"] = df[f\"alpha_{nm_rank}_rank\"] + df[f\"sharpe_{nm_rank}_rank\"] + df[f\"max_drawdown_{nm_rank}_rank\"] + df[f\"value_at_risk_weekly_95_{nm_rank}_rank\"]\n",
    "    return df "
   ]
  },
  {
   "cell_type": "code",
   "execution_count": 9,
   "id": "2541b616",
   "metadata": {},
   "outputs": [],
   "source": [
    "df = generate_rankings(df, \"treino\")\n",
    "df = generate_rankings(df, \"teste\")"
   ]
  },
  {
   "cell_type": "code",
   "execution_count": 10,
   "id": "f9ccf1aa",
   "metadata": {},
   "outputs": [],
   "source": [
    "# remoção dos casos extremos\n",
    "df = df[df.parameters.apply(lambda x: 0 < x[2] < 1 and 0 < x[3] < 100 and 0 < x[4] < 1)]"
   ]
  },
  {
   "cell_type": "markdown",
   "id": "6ad4c716",
   "metadata": {},
   "source": [
    "# Melhor Parametro "
   ]
  },
  {
   "cell_type": "code",
   "execution_count": 11,
   "id": "15ef57d8",
   "metadata": {},
   "outputs": [
    {
     "name": "stdout",
     "output_type": "stream",
     "text": [
      "window_size: 52\n",
      "step_size: 4\n",
      "risk_aversion: 0.25\n",
      "returns_percentile: 50\n",
      "volatility_tolerance: 0.75\n"
     ]
    }
   ],
   "source": [
    "best_parameter = df.sort_values(\"ranking_treino\").iloc[0].parameters\n",
    "\n",
    "print(f\"window_size: {best_parameter[0]}\")\n",
    "print(f\"step_size: {best_parameter[1]}\")\n",
    "print(f\"risk_aversion: {best_parameter[2]}\")\n",
    "print(f\"returns_percentile: {best_parameter[3]}\")\n",
    "print(f\"volatility_tolerance: {best_parameter[4]}\")"
   ]
  },
  {
   "cell_type": "markdown",
   "id": "72c5221a",
   "metadata": {},
   "source": [
    "# Resultados Melhor Parâmetro treino e teste"
   ]
  },
  {
   "cell_type": "markdown",
   "id": "ba030f2c",
   "metadata": {},
   "source": [
    "## Treino"
   ]
  },
  {
   "cell_type": "code",
   "execution_count": 12,
   "id": "e8a022c0",
   "metadata": {},
   "outputs": [
    {
     "data": {
      "text/plain": [
       "{'sharpe_treino': 2.3247895590512626,\n",
       " 'modified_sharpe_ratio_treino': 0.11068198528841718,\n",
       " 'treynor_ratio_treino': 110.71881797765005,\n",
       " 'modigliani_ratio_treino': 5.335926441255527,\n",
       " 'max_drawdown_treino': -25.39752645701442,\n",
       " 'value_at_risk_weekly_95_treino': -3.881190480909031,\n",
       " 'media_perda_esperada_weekly_95_treino': -7.617842733333332,\n",
       " 'beta_treino': 0.441030791672293,\n",
       " 'alpha_treino': 37.217102999095154,\n",
       " 'annual_return_treino': 54.830407945703506,\n",
       " 'annual_std_treino': 21.004227137716068,\n",
       " 'capm_expected_return_treino': 17.613304946608352}"
      ]
     },
     "execution_count": 12,
     "metadata": {},
     "output_type": "execute_result"
    }
   ],
   "source": [
    "market_data = naive_returns[(naive_returns.index >= data_inicio_treino)&(naive_returns.index <= data_fim_treino)]\n",
    "data_returns = df[df[\"parameters\"].apply(lambda x: x == best_parameter)].portfolio_returns.iloc[0]\n",
    "data_returns = data_returns[(data_returns.index >= data_inicio_treino)&(data_returns.index <= data_fim_treino)]\n",
    "result = PerformanceTracker(data_returns, market_data, annual_risk_free=risk_free, alpha_var=0.05, period=\"weekly\")()\n",
    "result = rename_keys(\"_treino\", result)\n",
    "result"
   ]
  },
  {
   "cell_type": "code",
   "execution_count": 13,
   "id": "106e6404",
   "metadata": {},
   "outputs": [
    {
     "data": {
      "text/plain": [
       "{'sharpe_treino_mercado': 0.740514576897138,\n",
       " 'modified_sharpe_ratio_treino_mercado': 0.02082477442134199,\n",
       " 'treynor_ratio_treino_mercado': 26.332186246164852,\n",
       " 'modigliani_ratio_treino_mercado': 2.628253532564539,\n",
       " 'max_drawdown_treino_mercado': -50.49545880506948,\n",
       " 'value_at_risk_weekly_95_treino_mercado': -7.407996485618352,\n",
       " 'media_perda_esperada_weekly_95_treino_mercado': -15.019975276108294,\n",
       " 'beta_treino_mercado': 1.0,\n",
       " 'alpha_treino_mercado': 0,\n",
       " 'annual_return_treino_mercado': 32.33218624616485,\n",
       " 'annual_std_treino_mercado': 35.559308442651435,\n",
       " 'capm_expected_return_treino_mercado': 32.33218624616485}"
      ]
     },
     "execution_count": 13,
     "metadata": {},
     "output_type": "execute_result"
    }
   ],
   "source": [
    "result = PerformanceTracker(market_data, market_data, annual_risk_free=risk_free, alpha_var=0.05, period=\"weekly\")()\n",
    "result = rename_keys(\"_treino_mercado\", result)\n",
    "result"
   ]
  },
  {
   "cell_type": "code",
   "execution_count": 14,
   "id": "d51e0f1e",
   "metadata": {},
   "outputs": [
    {
     "data": {
      "image/png": "[encoded data removed]",
      "text/plain": [
       "<Figure size 640x480 with 1 Axes>"
      ]
     },
     "metadata": {},
     "output_type": "display_data"
    }
   ],
   "source": [
    "PerformanceTracker(data_returns, market_data, annual_risk_free=risk_free, alpha_var=0.05, period=\"weekly\").plot_cumulative_returns()"
   ]
  },
  {
   "cell_type": "markdown",
   "id": "0c072654",
   "metadata": {},
   "source": [
    "## Teste"
   ]
  },
  {
   "cell_type": "code",
   "execution_count": 15,
   "id": "fbc2745d",
   "metadata": {},
   "outputs": [
    {
     "data": {
      "text/plain": [
       "{'sharpe_teste': -0.008107847885808511,\n",
       " 'modified_sharpe_ratio_teste': -0.0006351101272868301,\n",
       " 'treynor_ratio_teste': -0.24117010161912844,\n",
       " 'modigliani_ratio_teste': 19.78984909965899,\n",
       " 'max_drawdown_teste': -10.809767174923909,\n",
       " 'value_at_risk_weekly_95_teste': -2.77205107227728,\n",
       " 'media_perda_esperada_weekly_95_teste': -3.510890468347,\n",
       " 'beta_teste': 0.4291792139240649,\n",
       " 'alpha_teste': 8.552531598656737,\n",
       " 'annual_return_teste': 5.896494805365116,\n",
       " 'annual_std_teste': 12.766050386324299,\n",
       " 'capm_expected_return_teste': -2.656036793291621}"
      ]
     },
     "execution_count": 15,
     "metadata": {},
     "output_type": "execute_result"
    }
   ],
   "source": [
    "market_data = naive_returns[(naive_returns.index >= data_fim_treino)&(naive_returns.index <= data_fim_teste)]\n",
    "data_returns = df[df[\"parameters\"].apply(lambda x: x == best_parameter)].portfolio_returns.iloc[0]\n",
    "data_returns = data_returns[(data_returns.index >= data_fim_treino)&(data_returns.index <= data_fim_teste)]\n",
    "data_returns = data_returns.apply(lambda x: x*(1 - 0.0065))\n",
    "result = PerformanceTracker(data_returns, market_data, annual_risk_free=risk_free, alpha_var=0.05, period=\"weekly\")()\n",
    "result = rename_keys(\"_teste\", result)\n",
    "result"
   ]
  },
  {
   "cell_type": "code",
   "execution_count": 16,
   "id": "1e3d0972",
   "metadata": {},
   "outputs": [
    {
     "data": {
      "text/plain": [
       "{'sharpe_teste_mercado': -0.9342149981074177,\n",
       " 'modified_sharpe_ratio_teste_mercado': -0.04327262655691237,\n",
       " 'treynor_ratio_teste_mercado': -20.168816458159462,\n",
       " 'modigliani_ratio_teste_mercado': 50.90008005585422,\n",
       " 'max_drawdown_teste_mercado': -35.70376214076515,\n",
       " 'value_at_risk_weekly_95_teste_mercado': -5.149387712740692,\n",
       " 'media_perda_esperada_weekly_95_teste_mercado': -6.92603479994423,\n",
       " 'beta_teste_mercado': 1.0,\n",
       " 'alpha_teste_mercado': 0,\n",
       " 'annual_return_teste_mercado': -14.168816458159462,\n",
       " 'annual_std_teste_mercado': 21.58905230489611,\n",
       " 'capm_expected_return_teste_mercado': -14.168816458159462}"
      ]
     },
     "execution_count": 16,
     "metadata": {},
     "output_type": "execute_result"
    }
   ],
   "source": [
    "result = PerformanceTracker(market_data, market_data, annual_risk_free=risk_free, alpha_var=0.05, period=\"weekly\")()\n",
    "result = rename_keys(\"_teste_mercado\", result)\n",
    "result"
   ]
  },
  {
   "cell_type": "code",
   "execution_count": 17,
   "id": "6f739fac",
   "metadata": {},
   "outputs": [
    {
     "data": {
      "image/png": "[encoded data removed]",
      "text/plain": [
       "<Figure size 640x480 with 1 Axes>"
      ]
     },
     "metadata": {},
     "output_type": "display_data"
    }
   ],
   "source": [
    "PerformanceTracker(data_returns, market_data, annual_risk_free=risk_free, alpha_var=0.05, period=\"weekly\").plot_cumulative_returns()"
   ]
  },
  {
   "cell_type": "markdown",
   "id": "04fb8c79",
   "metadata": {},
   "source": [
    "# Teste Estatístico"
   ]
  },
  {
   "cell_type": "code",
   "execution_count": 18,
   "id": "e9df8d0f",
   "metadata": {},
   "outputs": [],
   "source": [
    "x = stats.ttest_ind(market_data, data_returns, equal_var=False)"
   ]
  },
  {
   "cell_type": "code",
   "execution_count": 38,
   "id": "ce9cfe5a",
   "metadata": {
    "scrolled": true
   },
   "outputs": [],
   "source": [
    "df[\"p_value\"] = df[\"portfolio_returns\"].apply(lambda x: stats.ttest_ind(naive_returns[naive_returns.index > data_fim_treino], x[x.index > data_fim_treino], equal_var=False).pvalue)"
   ]
  },
  {
   "cell_type": "code",
   "execution_count": 39,
   "id": "2f43c4da",
   "metadata": {
    "scrolled": true
   },
   "outputs": [
    {
     "data": {
      "text/plain": [
       "0.2817031124421654"
      ]
     },
     "execution_count": 39,
     "metadata": {},
     "output_type": "execute_result"
    }
   ],
   "source": [
    "df[df[\"parameters\"].apply(lambda x: x == best_parameter)][\"p_value\"].iloc[0]"
   ]
  },
  {
   "cell_type": "code",
   "execution_count": 40,
   "id": "44149307",
   "metadata": {},
   "outputs": [
    {
     "data": {
      "text/html": [
       "<div>\n",
       "<style scoped>\n",
       "    .dataframe tbody tr th:only-of-type {\n",
       "        vertical-align: middle;\n",
       "    }\n",
       "\n",
       "    .dataframe tbody tr th {\n",
       "        vertical-align: top;\n",
       "    }\n",
       "\n",
       "    .dataframe thead th {\n",
       "        text-align: right;\n",
       "    }\n",
       "</style>\n",
       "<table border=\"1\" class=\"dataframe\">\n",
       "  <thead>\n",
       "    <tr style=\"text-align: right;\">\n",
       "      <th></th>\n",
       "      <th>parameters</th>\n",
       "      <th>portfolio_returns</th>\n",
       "      <th>weights_df</th>\n",
       "      <th>sharpe_treino</th>\n",
       "      <th>modified_sharpe_ratio_treino</th>\n",
       "      <th>treynor_ratio_treino</th>\n",
       "      <th>modigliani_ratio_treino</th>\n",
       "      <th>max_drawdown_treino</th>\n",
       "      <th>value_at_risk_weekly_95_treino</th>\n",
       "      <th>media_perda_esperada_weekly_95_treino</th>\n",
       "      <th>...</th>\n",
       "      <th>max_drawdown_treino_rank</th>\n",
       "      <th>alpha_treino_rank</th>\n",
       "      <th>value_at_risk_weekly_95_treino_rank</th>\n",
       "      <th>ranking_treino</th>\n",
       "      <th>sharpe_teste_rank</th>\n",
       "      <th>max_drawdown_teste_rank</th>\n",
       "      <th>alpha_teste_rank</th>\n",
       "      <th>value_at_risk_weekly_95_teste_rank</th>\n",
       "      <th>ranking_teste</th>\n",
       "      <th>p_value</th>\n",
       "    </tr>\n",
       "  </thead>\n",
       "  <tbody>\n",
       "    <tr>\n",
       "      <th>15</th>\n",
       "      <td>[52, 4, 0.25, 50, 0.75]</td>\n",
       "      <td>2018-05-13    0.000000\n",
       "2018-05-20    0.000000\n",
       "...</td>\n",
       "      <td>ABCB4     ABEV3         AGR...</td>\n",
       "      <td>2.324790</td>\n",
       "      <td>0.110682</td>\n",
       "      <td>110.718818</td>\n",
       "      <td>5.335926</td>\n",
       "      <td>-25.397526</td>\n",
       "      <td>-3.881190</td>\n",
       "      <td>-7.617843</td>\n",
       "      <td>...</td>\n",
       "      <td>0.008</td>\n",
       "      <td>0.224</td>\n",
       "      <td>0.008</td>\n",
       "      <td>0.448</td>\n",
       "      <td>0.744</td>\n",
       "      <td>0.288</td>\n",
       "      <td>0.784</td>\n",
       "      <td>0.128</td>\n",
       "      <td>1.944</td>\n",
       "      <td>0.281703</td>\n",
       "    </tr>\n",
       "    <tr>\n",
       "      <th>76</th>\n",
       "      <td>[52, 4, 0.25, 50, 0.25]</td>\n",
       "      <td>2018-05-13    0.000000\n",
       "2018-05-20    0.000000\n",
       "...</td>\n",
       "      <td>ABCB4     ABEV3         AGR...</td>\n",
       "      <td>2.004292</td>\n",
       "      <td>0.092579</td>\n",
       "      <td>92.469241</td>\n",
       "      <td>4.907459</td>\n",
       "      <td>-27.869490</td>\n",
       "      <td>-4.094051</td>\n",
       "      <td>-8.607441</td>\n",
       "      <td>...</td>\n",
       "      <td>0.088</td>\n",
       "      <td>0.344</td>\n",
       "      <td>0.120</td>\n",
       "      <td>0.864</td>\n",
       "      <td>0.152</td>\n",
       "      <td>0.408</td>\n",
       "      <td>0.168</td>\n",
       "      <td>0.616</td>\n",
       "      <td>1.344</td>\n",
       "      <td>0.143520</td>\n",
       "    </tr>\n",
       "    <tr>\n",
       "      <th>63</th>\n",
       "      <td>[52, 4, 0.5, 75, 0.5]</td>\n",
       "      <td>2018-05-13    0.000000\n",
       "2018-05-20    0.000000\n",
       "...</td>\n",
       "      <td>ABCB4         ABEV3        ...</td>\n",
       "      <td>1.992159</td>\n",
       "      <td>0.090752</td>\n",
       "      <td>93.664582</td>\n",
       "      <td>4.936947</td>\n",
       "      <td>-28.341319</td>\n",
       "      <td>-4.156459</td>\n",
       "      <td>-8.977634</td>\n",
       "      <td>...</td>\n",
       "      <td>0.168</td>\n",
       "      <td>0.328</td>\n",
       "      <td>0.208</td>\n",
       "      <td>1.032</td>\n",
       "      <td>0.096</td>\n",
       "      <td>0.232</td>\n",
       "      <td>0.136</td>\n",
       "      <td>0.512</td>\n",
       "      <td>0.976</td>\n",
       "      <td>0.138899</td>\n",
       "    </tr>\n",
       "    <tr>\n",
       "      <th>7</th>\n",
       "      <td>[52, 4, 0.5, 50, 0.5]</td>\n",
       "      <td>2018-05-13    0.000000\n",
       "2018-05-20    0.000000\n",
       "...</td>\n",
       "      <td>ABCB4         ABEV3        ...</td>\n",
       "      <td>1.955923</td>\n",
       "      <td>0.088869</td>\n",
       "      <td>87.594799</td>\n",
       "      <td>4.877177</td>\n",
       "      <td>-28.146046</td>\n",
       "      <td>-4.178671</td>\n",
       "      <td>-9.050832</td>\n",
       "      <td>...</td>\n",
       "      <td>0.136</td>\n",
       "      <td>0.408</td>\n",
       "      <td>0.248</td>\n",
       "      <td>1.152</td>\n",
       "      <td>0.520</td>\n",
       "      <td>0.040</td>\n",
       "      <td>0.576</td>\n",
       "      <td>0.064</td>\n",
       "      <td>1.200</td>\n",
       "      <td>0.203682</td>\n",
       "    </tr>\n",
       "    <tr>\n",
       "      <th>64</th>\n",
       "      <td>[52, 4, 0.25, 50, 0.5]</td>\n",
       "      <td>2018-05-13    0.000000\n",
       "2018-05-20    0.000000\n",
       "...</td>\n",
       "      <td>ABCB4         ABEV3        ...</td>\n",
       "      <td>1.880494</td>\n",
       "      <td>0.088704</td>\n",
       "      <td>87.598608</td>\n",
       "      <td>4.575399</td>\n",
       "      <td>-28.526854</td>\n",
       "      <td>-4.040123</td>\n",
       "      <td>-10.995260</td>\n",
       "      <td>...</td>\n",
       "      <td>0.208</td>\n",
       "      <td>0.512</td>\n",
       "      <td>0.064</td>\n",
       "      <td>1.248</td>\n",
       "      <td>0.128</td>\n",
       "      <td>0.648</td>\n",
       "      <td>0.144</td>\n",
       "      <td>0.520</td>\n",
       "      <td>1.440</td>\n",
       "      <td>0.136502</td>\n",
       "    </tr>\n",
       "  </tbody>\n",
       "</table>\n",
       "<p>5 rows × 62 columns</p>\n",
       "</div>"
      ],
      "text/plain": [
       "                 parameters  \\\n",
       "15  [52, 4, 0.25, 50, 0.75]   \n",
       "76  [52, 4, 0.25, 50, 0.25]   \n",
       "63    [52, 4, 0.5, 75, 0.5]   \n",
       "7     [52, 4, 0.5, 50, 0.5]   \n",
       "64   [52, 4, 0.25, 50, 0.5]   \n",
       "\n",
       "                                    portfolio_returns  \\\n",
       "15  2018-05-13    0.000000\n",
       "2018-05-20    0.000000\n",
       "...   \n",
       "76  2018-05-13    0.000000\n",
       "2018-05-20    0.000000\n",
       "...   \n",
       "63  2018-05-13    0.000000\n",
       "2018-05-20    0.000000\n",
       "...   \n",
       "7   2018-05-13    0.000000\n",
       "2018-05-20    0.000000\n",
       "...   \n",
       "64  2018-05-13    0.000000\n",
       "2018-05-20    0.000000\n",
       "...   \n",
       "\n",
       "                                           weights_df  sharpe_treino  \\\n",
       "15                     ABCB4     ABEV3         AGR...       2.324790   \n",
       "76                     ABCB4     ABEV3         AGR...       2.004292   \n",
       "63                     ABCB4         ABEV3        ...       1.992159   \n",
       "7                      ABCB4         ABEV3        ...       1.955923   \n",
       "64                     ABCB4         ABEV3        ...       1.880494   \n",
       "\n",
       "    modified_sharpe_ratio_treino  treynor_ratio_treino  \\\n",
       "15                      0.110682            110.718818   \n",
       "76                      0.092579             92.469241   \n",
       "63                      0.090752             93.664582   \n",
       "7                       0.088869             87.594799   \n",
       "64                      0.088704             87.598608   \n",
       "\n",
       "    modigliani_ratio_treino  max_drawdown_treino  \\\n",
       "15                 5.335926           -25.397526   \n",
       "76                 4.907459           -27.869490   \n",
       "63                 4.936947           -28.341319   \n",
       "7                  4.877177           -28.146046   \n",
       "64                 4.575399           -28.526854   \n",
       "\n",
       "    value_at_risk_weekly_95_treino  media_perda_esperada_weekly_95_treino  \\\n",
       "15                       -3.881190                              -7.617843   \n",
       "76                       -4.094051                              -8.607441   \n",
       "63                       -4.156459                              -8.977634   \n",
       "7                        -4.178671                              -9.050832   \n",
       "64                       -4.040123                             -10.995260   \n",
       "\n",
       "    ...  max_drawdown_treino_rank  alpha_treino_rank  \\\n",
       "15  ...                     0.008              0.224   \n",
       "76  ...                     0.088              0.344   \n",
       "63  ...                     0.168              0.328   \n",
       "7   ...                     0.136              0.408   \n",
       "64  ...                     0.208              0.512   \n",
       "\n",
       "    value_at_risk_weekly_95_treino_rank  ranking_treino  sharpe_teste_rank  \\\n",
       "15                                0.008           0.448              0.744   \n",
       "76                                0.120           0.864              0.152   \n",
       "63                                0.208           1.032              0.096   \n",
       "7                                 0.248           1.152              0.520   \n",
       "64                                0.064           1.248              0.128   \n",
       "\n",
       "    max_drawdown_teste_rank  alpha_teste_rank  \\\n",
       "15                    0.288             0.784   \n",
       "76                    0.408             0.168   \n",
       "63                    0.232             0.136   \n",
       "7                     0.040             0.576   \n",
       "64                    0.648             0.144   \n",
       "\n",
       "    value_at_risk_weekly_95_teste_rank  ranking_teste   p_value  \n",
       "15                               0.128          1.944  0.281703  \n",
       "76                               0.616          1.344  0.143520  \n",
       "63                               0.512          0.976  0.138899  \n",
       "7                                0.064          1.200  0.203682  \n",
       "64                               0.520          1.440  0.136502  \n",
       "\n",
       "[5 rows x 62 columns]"
      ]
     },
     "execution_count": 40,
     "metadata": {},
     "output_type": "execute_result"
    }
   ],
   "source": [
    "df.sort_values(\"ranking_treino\").iloc[:5]"
   ]
  },
  {
   "cell_type": "code",
   "execution_count": null,
   "id": "29eb76bd",
   "metadata": {},
   "outputs": [],
   "source": []
  },
  {
   "cell_type": "code",
   "execution_count": 41,
   "id": "c06043da",
   "metadata": {},
   "outputs": [
    {
     "data": {
      "text/plain": [
       "-0.002643784582066988"
      ]
     },
     "execution_count": 41,
     "metadata": {},
     "output_type": "execute_result"
    }
   ],
   "source": [
    "naive_returns[naive_returns.index > data_fim_treino].mean()"
   ]
  },
  {
   "cell_type": "code",
   "execution_count": 42,
   "id": "f44f1882",
   "metadata": {},
   "outputs": [
    {
     "data": {
      "text/plain": [
       "0.03004494951331696"
      ]
     },
     "execution_count": 42,
     "metadata": {},
     "output_type": "execute_result"
    }
   ],
   "source": [
    "naive_returns[naive_returns.index > data_fim_treino].std()"
   ]
  },
  {
   "cell_type": "code",
   "execution_count": 43,
   "id": "c790d20f",
   "metadata": {
    "scrolled": true
   },
   "outputs": [
    {
     "data": {
      "text/plain": [
       "0.0010847613574127453"
      ]
     },
     "execution_count": 43,
     "metadata": {},
     "output_type": "execute_result"
    }
   ],
   "source": [
    "data_returns[data_returns.index > data_fim_treino].mean()"
   ]
  },
  {
   "cell_type": "code",
   "execution_count": 44,
   "id": "f0177df6",
   "metadata": {},
   "outputs": [
    {
     "data": {
      "text/plain": [
       "0.017703640427016085"
      ]
     },
     "execution_count": 44,
     "metadata": {},
     "output_type": "execute_result"
    }
   ],
   "source": [
    "data_returns[data_returns.index > data_fim_treino].std()"
   ]
  },
  {
   "cell_type": "code",
   "execution_count": null,
   "id": "747cac46",
   "metadata": {},
   "outputs": [],
   "source": []
  },
  {
   "cell_type": "code",
   "execution_count": null,
   "id": "a4febc0f",
   "metadata": {},
   "outputs": [],
   "source": []
  }
 ],
 "metadata": {
  "kernelspec": {
   "display_name": "Python 3 (ipykernel)",
   "language": "python",
   "name": "python3"
  },
  "language_info": {
   "codemirror_mode": {
    "name": "ipython",
    "version": 3
   },
   "file_extension": ".py",
   "mimetype": "text/x-python",
   "name": "python",
   "nbconvert_exporter": "python",
   "pygments_lexer": "ipython3",
   "version": "3.10.9"
  }
 },
 "nbformat": 4,
 "nbformat_minor": 5
}
